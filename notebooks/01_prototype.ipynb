{
 "cells": [
  {
   "cell_type": "code",
   "execution_count": 1,
   "metadata": {},
   "outputs": [],
   "source": [
    "from datetime import datetime, timedelta\n",
    "\n",
    "class Task:\n",
    "    def __init__(self, task_id, name, priority, duration, required_skills, due_date):\n",
    "        self.task_id = task_id\n",
    "        self.name = name\n",
    "        self.priority = priority\n",
    "        self.duration = duration  # in hours\n",
    "        self.required_skills = required_skills\n",
    "        self.due_date = due_date\n",
    "\n",
    "class Worker:\n",
    "    def __init__(self, worker_id, name, skills, availability):\n",
    "        self.worker_id = worker_id\n",
    "        self.name = name\n",
    "        self.skills = skills\n",
    "        self.availability = availability  # List of tuples [(start_time, end_time)]\n",
    "\n",
    "class Resource:\n",
    "    def __init__(self, resource_id, name, capacity):\n",
    "        self.resource_id = resource_id\n",
    "        self.name = name\n",
    "        self.capacity = capacity\n"
   ]
  }
 ],
 "metadata": {
  "kernelspec": {
   "display_name": ".venv",
   "language": "python",
   "name": "python3"
  },
  "language_info": {
   "codemirror_mode": {
    "name": "ipython",
    "version": 3
   },
   "file_extension": ".py",
   "mimetype": "text/x-python",
   "name": "python",
   "nbconvert_exporter": "python",
   "pygments_lexer": "ipython3",
   "version": "3.11.6"
  }
 },
 "nbformat": 4,
 "nbformat_minor": 2
}
